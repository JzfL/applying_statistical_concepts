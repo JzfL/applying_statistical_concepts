{
 "cells": [
  {
   "cell_type": "markdown",
   "id": "7b0bcac6-5086-4f4e-928a-570a9ff7ae58",
   "metadata": {},
   "source": [
    "# Assignment 2"
   ]
  },
  {
   "cell_type": "markdown",
   "id": "5fce0350-2a17-4e93-8d4c-0b8748fdfc32",
   "metadata": {},
   "source": [
    "As before, if a question can be answered with 'yes/no', or a numeric value, you may simply state as much. If you incorporate code from the internet (which is not required and generally not advisable), please cite the source within your code (providing a URL is sufficient).\n",
    "\n",
    "We will go through comparable code and concepts in the live learning sessions. If you run into trouble, start by using the help `help()` function in Python, to get information about the datasets and function in question. The internet is also a great resource when coding (though note that no outside searches are required by the assignment!). If you do incorporate code from the internet, please cite the source within your code (providing a URL is sufficient).\n",
    "\n",
    "Please bring questions that you cannot work out on your own to office hours, work periods or share with your peers on Slack. We will work with you through the issue.\n",
    "\n",
    "If you like, you may collaborate with others in the cohort. If you choose to do so, please indicate with whom you have worked with in your pull request by tagging their GitHub username. Separate submissions are required."
   ]
  },
  {
   "cell_type": "code",
   "execution_count": 14,
   "id": "ffd43063",
   "metadata": {},
   "outputs": [],
   "source": [
    "import numpy as np\n",
    "import pandas as pd\n",
    "import matplotlib.pyplot as plt\n",
    "import statsmodels.api as sm\n",
    "\n",
    "\n",
    "\n",
    "# Import specific objects\n",
    "from sklearn.preprocessing import StandardScaler\n",
    "from ISLP import load_data\n",
    "from ISLP.models import ModelSpec as MS\n",
    "from ISLP import confusion_table\n",
    "from sklearn.neighbors import KNeighborsClassifier"
   ]
  },
  {
   "cell_type": "markdown",
   "id": "4a59e07e-6abb-4f6c-9c1b-760b11626ce7",
   "metadata": {},
   "source": [
    "### Question 1: Classification using KNN\n",
    "\n",
    "We'll now use the `Caravan` dataset from the `ISLP` package. (You may use `Caravan.describe()` to review details of the dataset.) In this dataset, the response variable of interest is `Purchase`, which indicates if a given customer purchased a caravan insurance policy. We will simultaneously use all other variables in the dataset to predict the response variable."
   ]
  },
  {
   "cell_type": "code",
   "execution_count": 2,
   "id": "6449268e-0e33-4976-83cf-5ada4b29597f",
   "metadata": {},
   "outputs": [
    {
     "name": "stdout",
     "output_type": "stream",
     "text": [
      "      MOSTYPE  MAANTHUI  MGEMOMV  MGEMLEEF  MOSHOOFD  MGODRK  MGODPR  MGODOV  \\\n",
      "0          33         1        3         2         8       0       5       1   \n",
      "1          37         1        2         2         8       1       4       1   \n",
      "2          37         1        2         2         8       0       4       2   \n",
      "3           9         1        3         3         3       2       3       2   \n",
      "4          40         1        4         2        10       1       4       1   \n",
      "...       ...       ...      ...       ...       ...     ...     ...     ...   \n",
      "5817       36         1        1         2         8       0       6       1   \n",
      "5818       35         1        4         4         8       1       4       1   \n",
      "5819       33         1        3         4         8       0       6       0   \n",
      "5820       34         1        3         2         8       0       7       0   \n",
      "5821       33         1        3         3         8       0       6       1   \n",
      "\n",
      "      MGODGE  MRELGE  ...  APERSONG  AGEZONG  AWAOREG  ABRAND  AZEILPL  \\\n",
      "0          3       7  ...         0        0        0       1        0   \n",
      "1          4       6  ...         0        0        0       1        0   \n",
      "2          4       3  ...         0        0        0       1        0   \n",
      "3          4       5  ...         0        0        0       1        0   \n",
      "4          4       7  ...         0        0        0       1        0   \n",
      "...      ...     ...  ...       ...      ...      ...     ...      ...   \n",
      "5817       2       1  ...         0        0        0       1        0   \n",
      "5818       4       6  ...         0        0        0       1        0   \n",
      "5819       3       5  ...         0        0        0       1        0   \n",
      "5820       2       7  ...         0        0        0       0        0   \n",
      "5821       2       7  ...         0        0        0       0        0   \n",
      "\n",
      "      APLEZIER  AFIETS  AINBOED  ABYSTAND  Purchase  \n",
      "0            0       0        0         0        No  \n",
      "1            0       0        0         0        No  \n",
      "2            0       0        0         0        No  \n",
      "3            0       0        0         0        No  \n",
      "4            0       0        0         0        No  \n",
      "...        ...     ...      ...       ...       ...  \n",
      "5817         0       0        0         0        No  \n",
      "5818         0       0        0         0        No  \n",
      "5819         0       0        0         0       Yes  \n",
      "5820         0       0        0         0        No  \n",
      "5821         0       0        0         0        No  \n",
      "\n",
      "[5822 rows x 86 columns]\n"
     ]
    }
   ],
   "source": [
    "# Load the \"Caravan\" dataset using the \"load_data\" function from the ISLP package\n",
    "Caravan = load_data('Caravan')\n",
    "Caravan.Purchase\n",
    "\n",
    "# Add your code here\n",
    "Caravan.describe\n",
    "print(Caravan)"
   ]
  },
  {
   "cell_type": "markdown",
   "id": "ad60779b-cba9-4972-aeeb-b89e65fda11c",
   "metadata": {},
   "source": [
    "Before fitting any model, it is essential to understand our data. Answer the following questions about the `Caravan` dataset (Hint: use `print` and `describe`):  \n",
    "_(i)_ How many observations (rows) does the dataset contain?   \n",
    "\n",
    "*5822*\n",
    "\n",
    "_(ii)_ How many variables (columns) does the dataset contain?   \n",
    "\n",
    "*86*\n",
    "\n",
    "_(iii)_ What 'variable' type is the response variable `Purchase` (e.g., 'character', 'factor', 'numeric', etc)? What are the 'levels' of the variable?    \n",
    "\n",
    "*https://www150.statcan.gc.ca/n1/edu/power-pouvoir/ch8/5214817-eng.htm*<br>\n",
    "*Binary, 2 levels Boolean*\n",
    "\n",
    "_(iv)_ How many predictor variables do we have (Hint: all variables other than `Purchase`)?  \n",
    "\n",
    "*https://islp.readthedocs.io/en/latest/labs/Ch04-classification-lab.html* <br>\n",
    "*85*"
   ]
  },
  {
   "cell_type": "code",
   "execution_count": null,
   "id": "5a3a8ec5-98e4-431d-967b-ae1482127de4",
   "metadata": {},
   "outputs": [],
   "source": [
    "# Add your code here"
   ]
  },
  {
   "cell_type": "markdown",
   "id": "5f5d31d9",
   "metadata": {},
   "source": [
    "Next, we must preform 'pre-processing' or 'data munging', to prepare our data for classification/prediction. For KNN, there are three essential steps. A first essential step is to 'standardize' the predictor variables. We can achieve this using the `scaler` method, provided as follows:"
   ]
  },
  {
   "cell_type": "code",
   "execution_count": 23,
   "id": "4c2901b1-82ce-4729-88d9-7d9985336221",
   "metadata": {},
   "outputs": [
    {
     "name": "stdout",
     "output_type": "stream",
     "text": [
      "    MOSTYPE  MAANTHUI   MGEMOMV  MGEMLEEF  MOSHOOFD    MGODRK    MGODPR  \\\n",
      "0  0.680906  -0.27258  0.406697 -1.216964  0.779405 -0.694311  0.217444   \n",
      "1  0.992297  -0.27258 -0.859500 -1.216964  0.779405  0.302552 -0.365410   \n",
      "2  0.992297  -0.27258 -0.859500 -1.216964  0.779405 -0.694311 -0.365410   \n",
      "3 -1.187437  -0.27258  0.406697  0.010755 -0.970980  1.299414 -0.948264   \n",
      "4  1.225840  -0.27258  1.672893 -1.216964  1.479559  0.302552 -0.365410   \n",
      "\n",
      "     MGODOV    MGODGE    MRELGE  ...   ALEVEN  APERSONG   AGEZONG  AWAOREG  \\\n",
      "0 -0.068711 -0.161816  0.427670  ... -0.20291 -0.073165 -0.081055 -0.05992   \n",
      "1 -0.068711  0.464159 -0.096077  ... -0.20291 -0.073165 -0.081055 -0.05992   \n",
      "2  0.914172  0.464159 -1.667319  ... -0.20291 -0.073165 -0.081055 -0.05992   \n",
      "3  0.914172  0.464159 -0.619824  ... -0.20291 -0.073165 -0.081055 -0.05992   \n",
      "4 -0.068711  0.464159  0.427670  ... -0.20291 -0.073165 -0.081055 -0.05992   \n",
      "\n",
      "     ABRAND   AZEILPL  APLEZIER   AFIETS   AINBOED  ABYSTAND  \n",
      "0  0.764971 -0.022706  -0.07365 -0.15062 -0.087348 -0.118816  \n",
      "1  0.764971 -0.022706  -0.07365 -0.15062 -0.087348 -0.118816  \n",
      "2  0.764971 -0.022706  -0.07365 -0.15062 -0.087348 -0.118816  \n",
      "3  0.764971 -0.022706  -0.07365 -0.15062 -0.087348 -0.118816  \n",
      "4  0.764971 -0.022706  -0.07365 -0.15062 -0.087348 -0.118816  \n",
      "\n",
      "[5 rows x 85 columns]\n"
     ]
    }
   ],
   "source": [
    "# Select predictors (excluding the 86th column)\n",
    "predictors = Caravan.iloc[:, :-1]\n",
    "\n",
    "# Standardize the predictors\n",
    "scaler = StandardScaler()\n",
    "predictors_standardized = pd.DataFrame(scaler.fit_transform(predictors), columns=predictors.columns)\n",
    "\n",
    "# Display the head of the standardized predictors\n",
    "print(predictors_standardized.head())"
   ]
  },
  {
   "cell_type": "markdown",
   "id": "227b3eaa-698e-4190-97cd-098e0e3d532e",
   "metadata": {},
   "source": [
    "_(v)_ Why is it important to standardize the predictor variables?  \n",
    "\n",
    "*https://builtin.com/data-science/when-and-why-standardize-your-data*\n",
    "*It makes all predictors contribute equally to the similar measures*\n",
    "\n",
    "_(vi)_ Why did we elect not to standard our response variable `Purchase`?  \n",
    "\n",
    "*Becasue it is a Boolean response*\n"
   ]
  },
  {
   "cell_type": "code",
   "execution_count": null,
   "id": "40a8c0f5",
   "metadata": {},
   "outputs": [],
   "source": [
    "# Your answer here"
   ]
  },
  {
   "cell_type": "markdown",
   "id": "28ffb22f",
   "metadata": {},
   "source": [
    "\n",
    "_(vii)_ A second essential step is to set a random seed. Do so below (Hint: use the `random.seed` function). Why is setting a seed important? Is the particular seed value important? Why or why not?\n",
    "\n",
    "*It is important to ensure repeatability, the particular seed value is not important because it only defines the starting sequence of the random generator instead of using system time*"
   ]
  },
  {
   "cell_type": "code",
   "execution_count": 9,
   "id": "230fd782-cfe1-45e6-ad00-a67e6b04d024",
   "metadata": {},
   "outputs": [
    {
     "name": "stdout",
     "output_type": "stream",
     "text": [
      "0.4523795535098186\n"
     ]
    }
   ],
   "source": [
    "# Add your code here\n",
    "import random\n",
    "random.seed(11,3)\n",
    "print(random.random())"
   ]
  },
  {
   "cell_type": "markdown",
   "id": "fe4862c6-ed52-402f-b3f0-fead91646033",
   "metadata": {},
   "source": [
    "_(viii)_ A third essential step is to split our standardized data into separate training and testing sets. We will split into 75% training and 25% testing. The provided code randomly partitions our data, and creates linked training sets for the predictors and response variables. Extend the code to create a non-overlapping test set for the predictors and response variables."
   ]
  },
  {
   "cell_type": "code",
   "execution_count": 10,
   "id": "cbe9f219-571b-476b-9f5b-b47431c803b1",
   "metadata": {},
   "outputs": [],
   "source": [
    "# Create a random vector of True and False values\n",
    "split = np.random.choice([True, False], size=len(predictors_standardized), replace=True, p=[0.75, 0.25])\n",
    "\n",
    "# Define the training set for X (predictors)\n",
    "training_X = predictors_standardized[split]\n",
    "\n",
    "# Define the training set for Y (response)\n",
    "training_Y = Caravan.loc[split, 'Purchase']\n",
    "\n",
    "# Define the testing set for X (predictors)\n",
    "testing_X = predictors_standardized[~split]\n",
    "\n",
    "# Define the testing set for Y (response)\n",
    "testing_Y = Caravan.loc[~split, 'Purchase']\n"
   ]
  },
  {
   "cell_type": "markdown",
   "id": "58f16dbc-0be6-4cc8-b2c4-edab7042c702",
   "metadata": {},
   "source": [
    "_(ix)_ We are finally set to fit the KNN model. In Python, we can use the `KNeighborsClassifier()` function. Fit the KNN with k=1. (You may review arguments to knn by typing `help(knn.fit)`). "
   ]
  },
  {
   "cell_type": "code",
   "execution_count": 27,
   "id": "e6a117de-279b-4320-b64e-4051ba2887d2",
   "metadata": {},
   "outputs": [
    {
     "data": {
      "text/html": [
       "<div>\n",
       "<style scoped>\n",
       "    .dataframe tbody tr th:only-of-type {\n",
       "        vertical-align: middle;\n",
       "    }\n",
       "\n",
       "    .dataframe tbody tr th {\n",
       "        vertical-align: top;\n",
       "    }\n",
       "\n",
       "    .dataframe thead th {\n",
       "        text-align: right;\n",
       "    }\n",
       "</style>\n",
       "<table border=\"1\" class=\"dataframe\">\n",
       "  <thead>\n",
       "    <tr style=\"text-align: right;\">\n",
       "      <th>Truth</th>\n",
       "      <th>No</th>\n",
       "      <th>Yes</th>\n",
       "    </tr>\n",
       "    <tr>\n",
       "      <th>Predicted</th>\n",
       "      <th></th>\n",
       "      <th></th>\n",
       "    </tr>\n",
       "  </thead>\n",
       "  <tbody>\n",
       "    <tr>\n",
       "      <th>No</th>\n",
       "      <td>1261</td>\n",
       "      <td>71</td>\n",
       "    </tr>\n",
       "    <tr>\n",
       "      <th>Yes</th>\n",
       "      <td>77</td>\n",
       "      <td>10</td>\n",
       "    </tr>\n",
       "  </tbody>\n",
       "</table>\n",
       "</div>"
      ],
      "text/plain": [
       "Truth        No  Yes\n",
       "Predicted           \n",
       "No         1261   71\n",
       "Yes          77   10"
      ]
     },
     "execution_count": 27,
     "metadata": {},
     "output_type": "execute_result"
    }
   ],
   "source": [
    "# Add your code here\n",
    "allvars = Caravan.columns.drop(['Purchase'])\n",
    "design = MS(allvars)\n",
    "\n",
    "X = design.fit_transform(Caravan)\n",
    "y = Caravan.Purchase == 'Yes'\n",
    "\n",
    "training_X, testing_X = X.loc[split], X.loc[~split]\n",
    "training_Y, testing_Y = y.loc[split], y.loc[~split]\n",
    "\n",
    "D = Caravan.Purchase\n",
    "L_train, L_test = D.loc[split], D.loc[~split]\n",
    "\n",
    "knn1 = KNeighborsClassifier(n_neighbors=1)\n",
    "training_X, testing_X = [np.asarray(X) for X in [training_X, testing_X]]\n",
    "knn1.fit(training_X, L_train)\n",
    "knn1_pred = knn1.predict(testing_X)\n",
    "confusion_table(knn1_pred, L_test)"
   ]
  },
  {
   "cell_type": "markdown",
   "id": "eb33a32a-95d3-49db-bb1b-663360267b18",
   "metadata": {},
   "source": [
    "Using your fit model, answer the following questions:   \n",
    "_(x)_ What is the prediction accuracy? (Hint: use the `score` method, and compare your model to `testing_Y`)  \n",
    "\n",
    "*89.6%*\n",
    "\n",
    "_(xi)_ What is the predictor error ? (Hint: compute it from the accuracy)\n",
    "\n",
    "*10.4%*"
   ]
  },
  {
   "cell_type": "code",
   "execution_count": 18,
   "id": "74dbe6c4-1a4d-4f06-9e2e-597da03952ed",
   "metadata": {},
   "outputs": [
    {
     "data": {
      "text/plain": [
       "0.8957011980267794"
      ]
     },
     "execution_count": 18,
     "metadata": {},
     "output_type": "execute_result"
    }
   ],
   "source": [
    "# prediction accuracy rate\n",
    "np.mean(knn1_pred == L_test)"
   ]
  },
  {
   "cell_type": "code",
   "execution_count": 30,
   "id": "9384d3f0",
   "metadata": {},
   "outputs": [
    {
     "data": {
      "text/plain": [
       "0.10429880197322061"
      ]
     },
     "execution_count": 30,
     "metadata": {},
     "output_type": "execute_result"
    }
   ],
   "source": [
    "# prediction error rate\n",
    "1-np.mean(knn1_pred == L_test)"
   ]
  },
  {
   "cell_type": "markdown",
   "id": "dce9342c-9dcd-4f6d-b437-6065417483db",
   "metadata": {},
   "source": [
    "_(xii)_ How does this prediction error/accuracy compare to what could be achieved via random guesses? To answer this, consider the percent of customers in the `Caravan` dataset who actually purchase insurance, computed below:\n",
    "\n",
    "*No, it's worse than educated guess*"
   ]
  },
  {
   "cell_type": "code",
   "execution_count": 32,
   "id": "c89ade30-3465-4104-b300-61d78b319d3c",
   "metadata": {},
   "outputs": [
    {
     "name": "stdout",
     "output_type": "stream",
     "text": [
      "94.02267262109241\n"
     ]
    }
   ],
   "source": [
    "# Calculate the percentage of customers who purchase insurance\n",

    "# isn't the percent customers purchses insurance suppose to be out of all customers??????\n",
    "percentage_purchase = (Caravan['Purchase'].eq('Yes').sum() / (Caravan['Purchase'].eq('No').sum()+Caravan['Purchase'].eq('Yes').sum())) * 100\n",

    "\n",
    "print(100-percentage_purchase)"
   ]
  },
  {
   "cell_type": "markdown",
   "id": "a7e19b5e-ad65-47f8-a3ef-e0f68a75048e",
   "metadata": {},
   "source": [
    "_(xiii)_ Fit a second KNN model, with $K=3$. Does this model perform better (i.e., have higher accuracy, compared to a random guess)?\n",
    "\n",
    "*Still no*"
   ]
  },
  {
   "cell_type": "code",
   "execution_count": 34,
   "id": "fedbe4f2",
   "metadata": {},
   "outputs": [
    {
     "data": {
      "text/plain": [
       "False"
      ]
     },
     "execution_count": 34,
     "metadata": {},
     "output_type": "execute_result"
    }
   ],
   "source": [
    "# Your code here\n",
    "knn3 = KNeighborsClassifier(n_neighbors=3)\n",
    "training_X, testing_X = [np.asarray(X) for X in [training_X, testing_X]]\n",
    "knn3.fit(training_X, L_train)\n",
    "knn3_pred = knn3.predict(testing_X)\n",
    "confusion_table(knn3_pred, L_test)\n",
    "np.mean(knn3_pred == L_test)>(100-percentage_purchase)"
   ]
  },
  {
   "cell_type": "markdown",
   "id": "93c5050f",
   "metadata": {},
   "source": [
    "# Criteria\n",
    "\n",
    "|Criteria            |Complete           |Incomplete          |\n",
    "|--------------------|---------------|--------------|\n",
    "|Classification using KNN|All steps are done correctly and the answers are correct.|At least one step is done incorrectly leading to a wrong answer.|"
   ]
  },
  {
   "cell_type": "markdown",
   "id": "bbf69b4d",
   "metadata": {},
   "source": [
    "## Submission Information\n",
    "\n",
    "🚨 **Please review our [Assignment Submission Guide](https://github.com/UofT-DSI/onboarding/blob/main/onboarding_documents/submissions.md)** 🚨 for detailed instructions on how to format, branch, and submit your work. Following these guidelines is crucial for your submissions to be evaluated correctly.\n",
    "\n",
    "### Submission Parameters:\n",
    "* Submission Due Date: `HH:MM AM/PM - DD/MM/YYYY`\n",
    "* The branch name for your repo should be: `assignment-2`\n",
    "* What to submit for this assignment:\n",
    "    * This Jupyter Notebook (assignment_2.ipynb) should be populated and should be the only change in your pull request.\n",
    "* What the pull request link should look like for this assignment: `https://github.com/<your_github_username>/applied_statistical_concepts/pull/<pr_id>`\n",
    "    * Open a private window in your browser. Copy and paste the link to your pull request into the address bar. Make sure you can see your pull request properly. This helps the technical facilitator and learning support staff review your submission easily.\n",
    "\n",
    "Checklist:\n",
    "- [ ] Created a branch with the correct naming convention.\n",
    "- [ ] Ensured that the repository is public.\n",
    "- [ ] Reviewed the PR description guidelines and adhered to them.\n",
    "- [ ] Verify that the link is accessible in a private browser window.\n",
    "\n",
    "If you encounter any difficulties or have questions, please don't hesitate to reach out to our team via our Slack at `#cohort-3-help`. Our Technical Facilitators and Learning Support staff are here to help you navigate any challenges.\n"
   ]
  }
 ],
 "metadata": {
  "kernelspec": {
   "display_name": "Python 3.10.4",
   "language": "python",
   "name": "python3"
  },
  "language_info": {
   "codemirror_mode": {
    "name": "ipython",
    "version": 3
   },
   "file_extension": ".py",
   "mimetype": "text/x-python",
   "name": "python",
   "nbconvert_exporter": "python",
   "pygments_lexer": "ipython3",
   "version": "3.9.19"
  },
  "vscode": {
   "interpreter": {
    "hash": "497a84dc8fec8cf8d24e7e87b6d954c9a18a327edc66feb9b9ea7e9e72cc5c7e"
   }
  }
 },
 "nbformat": 4,
 "nbformat_minor": 5
}
